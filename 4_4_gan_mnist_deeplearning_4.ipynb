{
  "nbformat": 4,
  "nbformat_minor": 0,
  "metadata": {
    "colab": {
      "provenance": [],
      "authorship_tag": "ABX9TyMa8mEnLOV8N+5wmIyToqg5",
      "include_colab_link": true
    },
    "kernelspec": {
      "name": "python3",
      "display_name": "Python 3"
    },
    "language_info": {
      "name": "python"
    }
  },
  "cells": [
    {
      "cell_type": "markdown",
      "metadata": {
        "id": "view-in-github",
        "colab_type": "text"
      },
      "source": [
        "<a href=\"https://colab.research.google.com/github/chabori02/deeplearning/blob/main/4_4_gan_mnist_deeplearning_4.ipynb\" target=\"_parent\"><img src=\"https://colab.research.google.com/assets/colab-badge.svg\" alt=\"Open In Colab\"/></a>"
      ]
    },
    {
      "cell_type": "code",
      "execution_count": null,
      "metadata": {
        "id": "vrxj1E2lvjfM"
      },
      "outputs": [],
      "source": [
        "from keras.models import Model, Sequential\n",
        "from keras. layers import Dense, Input\n",
        "from keras.layers.adyanced.activations import LeakyReLU\n",
        "from tensorflow.keras.optimizers import Adam\n",
        "from keras.datasets import mist\n",
        "from tadm import tqdm\n",
        "import numpy as np\n",
        "# 테이블값\n",
        "# 주석처리\n",
        "import matplotlib.pyplot as plt"
      ]
    },
    {
      "cell_type": "code",
      "source": [
        "(x_train, Y_train). (x_test, y__test) = mist. load_data()\n",
        "print(\"X_train shape\", x_train.shape)\n",
        "print(\"y_train shape\", y_train.shape)\n",
        "print(\"X_test shape\", x_test .shape)\n",
        "print(\"y_test shape\", y_test .shape)"
      ],
      "metadata": {
        "id": "srZW3MGHydMp"
      },
      "execution_count": null,
      "outputs": []
    },
    {
      "cell_type": "code",
      "source": [
        "model.compile(loss+'categorical_crossen')"
      ],
      "metadata": {
        "id": "aSZjoUSKye8A"
      },
      "execution_count": null,
      "outputs": []
    },
    {
      "cell_type": "code",
      "source": [],
      "metadata": {
        "id": "5icuto_QysrV"
      },
      "execution_count": null,
      "outputs": []
    }
  ]
}
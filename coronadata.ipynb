{
  "nbformat": 4,
  "nbformat_minor": 0,
  "metadata": {
    "colab": {
      "provenance": [],
      "authorship_tag": "ABX9TyO/jfCx5rJ7WOVgfndj4Zid",
      "include_colab_link": true
    },
    "kernelspec": {
      "name": "python3",
      "display_name": "Python 3"
    },
    "language_info": {
      "name": "python"
    }
  },
  "cells": [
    {
      "cell_type": "markdown",
      "metadata": {
        "id": "view-in-github",
        "colab_type": "text"
      },
      "source": [
        "<a href=\"https://colab.research.google.com/github/chabori02/deeplearning/blob/main/coronadata.ipynb\" target=\"_parent\"><img src=\"https://colab.research.google.com/assets/colab-badge.svg\" alt=\"Open In Colab\"/></a>"
      ]
    },
    {
      "cell_type": "code",
      "execution_count": null,
      "metadata": {
        "id": "4PDVoXRz3YF7"
      },
      "outputs": [],
      "source": [
        "from keras.models import Sequential\n",
        "from keras.layers import SimpleRNN, Dense\n",
        "from sklearn.preprocessing import MinMaxScaler\n",
        "from sklearn.metrics import mean_squared_error\n",
        "from sklearn.model_selection import train_test_split\n",
        "import math\n",
        "import numpy as np\n",
        "import matplotlib.pyplot as plt\n",
        "from pandas import read_csv"
      ]
    },
    {
      "cell_type": "code",
      "source": [
        "!git clone http://github.com/yhlee1627/deeplearning.git\n",
        "dataframe = read_csv('/content/deeplearning/corona_daily.csv', usecols=[3], engine='python', skipfooter=3)\n",
        "\n",
        "#from google.colab import drive\n",
        "#drive.mount를 하여 데이터를 저장한 파일에 접근함\n",
        "#drive.mount('/content/drive/ggdrive')\n",
        "#구글 드라이브를이용하여 csv파일에 접속하는 방법\n",
        "\n",
        "print(dataframe)\n",
        "dataset = dataframe.values\n",
        "dataset = dataset.astype('float32')"
      ],
      "metadata": {
        "id": "FKWuSq7256Nl"
      },
      "execution_count": null,
      "outputs": []
    },
    {
      "cell_type": "code",
      "source": [
        "from google.colab import drive\n",
        "drive.mount('/content/drive')"
      ],
      "metadata": {
        "id": "wrjjfGYsLEdD"
      },
      "execution_count": null,
      "outputs": []
    },
    {
      "cell_type": "code",
      "source": [
        "scaler = MinMaxScaler(feature_range=(0,1))\n",
        "Dataset = scaler.fit_transform(dataset)\n",
        "#train훈련 test검증\n",
        "train_data, test_data = train_test_split(Dataset, test_size = 0.2, shuffle = False)\n",
        "print(len(train_data), len(test_data))"
      ],
      "metadata": {
        "id": "EdgSE-Kj9Na9"
      },
      "execution_count": null,
      "outputs": []
    },
    {
      "cell_type": "code",
      "source": [
        "def create_dataset(dataset, look_back):\n",
        "    x_data = []\n",
        "    y_data = []\n",
        "    for i  in range(len(dataset)-look_back):\n",
        "      data = dataset[i:(i+look_back), 0]\n",
        "      x_data.append(data)\n",
        "      y_data.append(dataset[i + look_back,0])\n",
        "    return np.array(x_data), np.array(y_data)\n"
      ],
      "metadata": {
        "id": "UyzPya7DM5AW"
      },
      "execution_count": null,
      "outputs": []
    },
    {
      "cell_type": "code",
      "source": [
        "look_back = 3\n",
        "x_train, y_train = create_dataset(train_data, look_back)\n",
        "x_test, y_test = create_dataset(test_data, look_back)\n",
        "\n",
        "print(x_train.shape, y_train.shape)\n",
        "print(x_test.shape, y_test.shape)"
      ],
      "metadata": {
        "id": "yI5yJAPJczOY"
      },
      "execution_count": null,
      "outputs": []
    },
    {
      "cell_type": "code",
      "source": [
        "X_train = np.reshape(x_train, (x_train.shape[0], 1, x_train.shape[1]))\n",
        "X_test = np.reshape(x_test, (x_test.shape[0], 1, x_test.shape[1]))\n",
        "\n",
        "print(X_train.shape)\n",
        "print(X_test.shape)"
      ],
      "metadata": {
        "id": "aE4sGaJThGyH"
      },
      "execution_count": null,
      "outputs": []
    },
    {
      "cell_type": "code",
      "source": [
        "model = Sequential()\n",
        "model.add(SimpleRNN(3, input_shape=(1, look_back)))\n",
        "#Simple 생략가능, 시계열/연속된 데이터 분석/자연어 처리 시 RNN, 음성, 이미지는 CNN, 동영상 3d는 GAN\n",
        "model.add(Dense(1, activation = \"linear\"))\n",
        "model.compile(loss = 'mse', optimizer = 'adam')\n",
        "model.summary()"
      ],
      "metadata": {
        "id": "26feJClkpNqU"
      },
      "execution_count": null,
      "outputs": []
    },
    {
      "cell_type": "code",
      "source": [
        "model.fit(X_train, y_train, epochs=100, batch_size=1, verbose=1)"
      ],
      "metadata": {
        "id": "eDF_BfsNutwA"
      },
      "execution_count": null,
      "outputs": []
    }
  ]
}